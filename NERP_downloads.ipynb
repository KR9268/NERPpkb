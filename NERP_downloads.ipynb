{
 "cells": [
  {
   "cell_type": "code",
   "execution_count": 1,
   "metadata": {},
   "outputs": [],
   "source": [
    "import NERPpkb\n",
    "\n",
    "sessions = NERPpkb.check_and_open_sap('SEP', 'ID', 'PW',3)\n",
    "session = sessions[1]\n",
    "sessions_dep = NERPpkb.check_and_open_sap('DEP', 'ID', 'PW ',2)\n",
    "session_dep = sessions_dep[1]\n",
    "\n",
    "down_path = 'C:\\TEMP'"
   ]
  },
  {
   "cell_type": "code",
   "execution_count": 2,
   "metadata": {},
   "outputs": [
    {
     "name": "stdout",
     "output_type": "stream",
     "text": [
      "조회 완료 (POUCH_SEP_C100_2024.07.01-2024.07.31.xlsx)\n",
      "조회 완료 (POUCH_SEP_C1X0_2024.07.01-2024.07.31.xlsx)\n",
      "조회 완료 (POUCH_DEP_C100_2024.07.01-2024.07.31.xlsx)\n"
     ]
    }
   ],
   "source": [
    "# Pouch 다운로드\n",
    "\n",
    "#date_list = [['2023.01.01','2023.01.31'],['2023.02.01','2023.02.28'],['2023.03.01','2023.03.31'],['2023.04.01','2023.04.30'],['2023.05.01','2023.05.31'],['2023.06.01','2023.06.30'],['2023.07.01','2023.07.31']]\n",
    "date_list = [['2024.07.01','2024.07.31']]\n",
    "for date_start,date_end in date_list:\n",
    "    print(NERPpkb.pouch_download(session, ['C100',date_start,date_end,''], down_path))\n",
    "    print(NERPpkb.pouch_download(session, ['C1X0',date_start,date_end,''], down_path))\n",
    "    print(NERPpkb.pouch_download(session_dep, ['C100',date_start,date_end,''], down_path))"
   ]
  },
  {
   "cell_type": "code",
   "execution_count": 3,
   "metadata": {},
   "outputs": [],
   "source": [
    "# Nego실적 다운로드\n",
    "\n",
    "#date_list = [['2023.01.01','2023.01.31'],['2023.02.01','2023.02.28'],['2023.03.01','2023.03.31'],['2023.04.01','2023.04.30'],['2023.05.01','2023.05.31'],['2023.06.01','2023.06.30']]\n",
    "date_list = [['2024.07.01','2024.07.31']]\n",
    "\n",
    "for date_start,date_end in date_list:\n",
    "    NERPpkb.nego_history_download(session, 'O', ['C100', 1, date_start,date_end], down_path)\n",
    "    NERPpkb.nego_history_download(session, 'X', ['C100', 1, date_start,date_end], down_path)\n",
    "    NERPpkb.nego_history_download(session_dep, 'O', ['C100', 1, date_start,date_end], down_path)\n",
    "    NERPpkb.nego_history_download(session_dep, 'X', ['C100', 1, date_start,date_end], down_path)\n",
    "    NERPpkb.nego_history_download(session, 'O', ['C100', 4, date_start,date_end], down_path)\n",
    "    NERPpkb.nego_history_download(session, 'X', ['C100', 4, date_start,date_end], down_path)\n",
    "    NERPpkb.nego_history_download(session_dep, 'O', ['C100', 4, date_start,date_end], down_path)\n",
    "    NERPpkb.nego_history_download(session_dep, 'X', ['C100', 4, date_start,date_end], down_path)"
   ]
  },
  {
   "cell_type": "code",
   "execution_count": 3,
   "metadata": {},
   "outputs": [
    {
     "name": "stdout",
     "output_type": "stream",
     "text": [
      "[['2023.02.01', '2023.02.15'], ['2023.02.16', '2023.02.28']]\n",
      "작업 완료 (['Billing Detail Download_SEP_2023.02.01-2023.02.15.XLS', 'Billing Detail Download_SEP_2023.02.16-2023.02.28.XLS'])\n"
     ]
    }
   ],
   "source": [
    "# Billing detail 다운로드\n",
    "\n",
    "date_list = [['2023.02.01','2023.02.28']]\n",
    "down_path = \"C:\\TEMP\"\n",
    "#org_codes = ['10ZZ', 'B001', 'C001', 'L001', 'Q001', 'R001', 'R002', 'T001', 'V004', 'X010']\n",
    "org_codes = ['10ZZ', 'L001']\n",
    "\n",
    "for date_start,date_end in date_list:\n",
    "    print(NERPpkb.down_billing_detail(session, 'C100', date_start, date_end, down_path, org_codes))\n",
    "    print(NERPpkb.down_billing_detail(session_dep, 'C100', date_start, date_end, down_path, org_codes))"
   ]
  }
 ],
 "metadata": {
  "kernelspec": {
   "display_name": "Python 3",
   "language": "python",
   "name": "python3"
  },
  "language_info": {
   "codemirror_mode": {
    "name": "ipython",
    "version": 3
   },
   "file_extension": ".py",
   "mimetype": "text/x-python",
   "name": "python",
   "nbconvert_exporter": "python",
   "pygments_lexer": "ipython3",
   "version": "3.11.4"
  },
  "orig_nbformat": 4
 },
 "nbformat": 4,
 "nbformat_minor": 2
}
