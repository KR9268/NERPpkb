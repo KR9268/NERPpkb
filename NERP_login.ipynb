{
 "cells": [
  {
   "cell_type": "markdown",
   "metadata": {},
   "source": [
    "## 로그인 (SEP, DEP 로그인 및 유지)"
   ]
  },
  {
   "cell_type": "code",
   "execution_count": 3,
   "metadata": {},
   "outputs": [],
   "source": [
    "import datetime\n",
    "import time\n",
    "import NERPpkb\n",
    "\n",
    "## 입력칸\n",
    "# 기준 값 (사용여부에 관계없이 넣어두고 사용)\n",
    "dict_nerp = {'GMP':['GMP', 'ID', 'PW',1],\n",
    "             'SEP':['SEP', 'ID', 'PW',3],\n",
    "             'DEP':['DEP', 'ID', 'PW',3],\n",
    "             'SER':['SER', 'ID', 'PW',1],\n",
    "             'DER':['DER', 'ID', 'PW',1]\n",
    "             }\n",
    "\n",
    "# 접속할 시스템명 입력\n",
    "module_weekly = ['SER','DER'] # 거의 쓰지않지만 권한유지용으로 월요일에만 한번 접속할 시스템명 입력\n",
    "module_daily = ['SEP','DEP']        # 매일 쓰고 접속상태 유지할 시스템명 입력\n",
    "\n",
    "\n",
    "## 실행코드\n",
    "dict_sessions = {key: None for key in dict_nerp.keys()}\n",
    "\n",
    "# 월요일이면 자주 안들어가는 프로그램을 켰다 끔\n",
    "if len(module_weekly) == 0:\n",
    "    print('월요일만 접속할 시스템을 입력하지 않아 Skip합니다')\n",
    "else:\n",
    "    if datetime.datetime.today().weekday() == 0: # 월요일\n",
    "        for module in dict_nerp.keys():\n",
    "            if module in module_weekly:\n",
    "                sessions_sub = NERPpkb.check_and_open_sap(*dict_nerp[module])\n",
    "                session_sub = sessions_sub[0]\n",
    "                if session_sub.findById(\"wnd[0]/sbar\").Text == 'User account not in validity date':\n",
    "                    print(f\"{str(module)} : User account not in validity date\")\n",
    "                    session_sub.ActiveWindow.Close()\n",
    "                    continue\n",
    "                session_sub.ActiveWindow.Close()\n",
    "                if module == 'GMP': #GMP는 팝업창이 하나떠서 두번 종료\n",
    "                    session_sub.ActiveWindow.Close()\n",
    "                session_sub.findById(\"wnd[1]/usr/btnSPOP-OPTION1\").press() \n",
    "\n",
    "# 로그인\n",
    "if len(module_daily) == 0:\n",
    "    print('매일 접속할 시스템을 입력하지 않아 Skip합니다')\n",
    "else:\n",
    "    for module in dict_sessions.keys():\n",
    "        if module in module_daily:\n",
    "            dict_sessions[module] = NERPpkb.check_and_open_sap(*dict_nerp[module])\n",
    "\n",
    "    while True:\n",
    "        for module in module_daily:\n",
    "            NERPpkb.loop_tcode(dict_sessions[module][dict_nerp[module][3]-1], 'ZSDP10200_B')\n",
    "            # dict_sessions[module][dict_nerp[module][3]-1] 부분은, 실제론 session[0]와 같은 형태임\n",
    "            # dict_nerp에서 설정한 창의 수에서 -1해서, 마지막 창을 프로세스 유지용으로 사용\n",
    "        time.sleep(2)"
   ]
  },
  {
   "cell_type": "markdown",
   "metadata": {},
   "source": [
    "# 로그인 유지만 "
   ]
  },
  {
   "cell_type": "code",
   "execution_count": 7,
   "metadata": {},
   "outputs": [
    {
     "ename": "TypeError",
     "evalue": "'NoneType' object is not subscriptable",
     "output_type": "error",
     "traceback": [
      "\u001b[1;31m---------------------------------------------------------------------------\u001b[0m",
      "\u001b[1;31mTypeError\u001b[0m                                 Traceback (most recent call last)",
      "Cell \u001b[1;32mIn[7], line 3\u001b[0m\n\u001b[0;32m      1\u001b[0m \u001b[38;5;28;01mwhile\u001b[39;00m \u001b[38;5;28;01mTrue\u001b[39;00m:\n\u001b[0;32m      2\u001b[0m     \u001b[38;5;28;01mfor\u001b[39;00m module \u001b[38;5;129;01min\u001b[39;00m module_daily:\n\u001b[1;32m----> 3\u001b[0m         NERPpkb\u001b[38;5;241m.\u001b[39mloop_tcode(\u001b[43mdict_sessions\u001b[49m\u001b[43m[\u001b[49m\u001b[43mmodule\u001b[49m\u001b[43m]\u001b[49m\u001b[43m[\u001b[49m\u001b[43mdict_nerp\u001b[49m\u001b[43m[\u001b[49m\u001b[43mmodule\u001b[49m\u001b[43m]\u001b[49m\u001b[43m[\u001b[49m\u001b[38;5;241;43m3\u001b[39;49m\u001b[43m]\u001b[49m\u001b[38;5;241;43m-\u001b[39;49m\u001b[38;5;241;43m1\u001b[39;49m\u001b[43m]\u001b[49m, \u001b[38;5;124m'\u001b[39m\u001b[38;5;124mZSDP10200_B\u001b[39m\u001b[38;5;124m'\u001b[39m)\n\u001b[0;32m      4\u001b[0m         \u001b[38;5;66;03m# dict_sessions[module][dict_nerp[module][3]-1] 부분은, 실제론 session[0]와 같은 형태임\u001b[39;00m\n\u001b[0;32m      5\u001b[0m         \u001b[38;5;66;03m# dict_nerp에서 설정한 창의 수에서 -1해서, 마지막 창을 프로세스 유지용으로 사용\u001b[39;00m\n\u001b[0;32m      6\u001b[0m     time\u001b[38;5;241m.\u001b[39msleep(\u001b[38;5;241m2\u001b[39m)\n",
      "\u001b[1;31mTypeError\u001b[0m: 'NoneType' object is not subscriptable"
     ]
    }
   ],
   "source": [
    "while True:\n",
    "    for module in module_daily:\n",
    "        NERPpkb.loop_tcode(dict_sessions[module][dict_nerp[module][3]-1], 'ZSDP10200_B')\n",
    "        # dict_sessions[module][dict_nerp[module][3]-1] 부분은, 실제론 session[0]와 같은 형태임\n",
    "        # dict_nerp에서 설정한 창의 수에서 -1해서, 마지막 창을 프로세스 유지용으로 사용\n",
    "    time.sleep(2)"
   ]
  },
  {
   "cell_type": "markdown",
   "metadata": {},
   "source": [
    "# 기타 로그인"
   ]
  },
  {
   "cell_type": "code",
   "execution_count": 28,
   "metadata": {},
   "outputs": [],
   "source": [
    "# 로그인\n",
    "system_name = 'GMP'\n",
    "sessions_sub = NERPpkb.check_and_open_sap(*dict_nerp[system_name])\n",
    "session_sub = sessions[2]"
   ]
  }
 ],
 "metadata": {
  "kernelspec": {
   "display_name": "Python 3",
   "language": "python",
   "name": "python3"
  },
  "language_info": {
   "codemirror_mode": {
    "name": "ipython",
    "version": 3
   },
   "file_extension": ".py",
   "mimetype": "text/x-python",
   "name": "python",
   "nbconvert_exporter": "python",
   "pygments_lexer": "ipython3",
   "version": "3.11.4"
  }
 },
 "nbformat": 4,
 "nbformat_minor": 2
}
