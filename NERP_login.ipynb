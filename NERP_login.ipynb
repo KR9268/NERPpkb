{
 "cells": [
  {
   "cell_type": "markdown",
   "metadata": {},
   "source": [
    "## 로그인 (SEP, DEP 로그인 및 유지)"
   ]
  },
  {
   "cell_type": "code",
   "execution_count": 2,
   "metadata": {},
   "outputs": [],
   "source": [
    "import datetime\n",
    "import time\n",
    "import NERPpkb\n",
    "\n",
    "# 기준 값\n",
    "dict_nerp = {'GMP':['GMP', 'ID', 'PW',1],\n",
    "             'SEP':['SEP', 'ID', 'PW',3],\n",
    "             'DEP':['DEP', 'ID', 'PW',3],\n",
    "             'SER':['SER', 'ID', 'PW',1],\n",
    "             'DER':['DER', 'ID', 'PW',1]\n",
    "             }\n",
    "module_weekly = ['GMP','SER','DER']\n",
    "module_daily = ['SEP','DEP']\n",
    "\n",
    "dict_sessions = {key: None for key in dict_nerp.keys()}\n",
    "\n",
    "# 월요일이면 자주 안들어가는 프로그램을 켰다 끔\n",
    "if datetime.datetime.today().weekday() == 0: # 월요일\n",
    "    for module in dict_nerp.keys():\n",
    "        if module in module_weekly:\n",
    "            sessions_sub = NERPpkb.check_and_open_sap(*dict_nerp[module])\n",
    "            session_sub = sessions_sub[0]\n",
    "            if session_sub.findById(\"wnd[0]/sbar\").Text == 'User account not in validity date':\n",
    "                print(f\"{str(module)} : User account not in validity date\")\n",
    "                session_sub.ActiveWindow.Close()\n",
    "                continue\n",
    "            session_sub.ActiveWindow.Close()\n",
    "            if module == 'GMP': #GMP는 팝업창이 하나떠서 두번 종료\n",
    "                session_sub.ActiveWindow.Close()\n",
    "            session_sub.findById(\"wnd[1]/usr/btnSPOP-OPTION1\").press() \n",
    "\n",
    "# 로그인\n",
    "for module in dict_sessions.keys():\n",
    "    if module in module_daily:\n",
    "        dict_sessions[module] = NERPpkb.check_and_open_sap(*dict_nerp[module])\n",
    "\n",
    "while True:\n",
    "    for module in module_daily:\n",
    "        NERPpkb.loop_tcode(dict_sessions[module][dict_nerp[module][3]-1], 'ZSDP10200_B')\n",
    "        # dict_sessions[module][dict_nerp[module][3]-1] 부분은, 실제론 session[0]와 같은 형태임\n",
    "        # dict_nerp에서 설정한 창의 수에서 -1해서, 마지막 창을 프로세스 유지용으로 사용\n",
    "    time.sleep(2)"
   ]
  },
  {
   "cell_type": "markdown",
   "metadata": {},
   "source": [
    "# 기타 로그인"
   ]
  },
  {
   "cell_type": "code",
   "execution_count": 28,
   "metadata": {},
   "outputs": [],
   "source": [
    "# 로그인\n",
    "system_name = 'GMP'\n",
    "sessions_sub = NERPpkb.check_and_open_sap(*dict_nerp[system_name])\n",
    "session_sub = sessions[2]"
   ]
  }
 ],
 "metadata": {
  "kernelspec": {
   "display_name": "Python 3",
   "language": "python",
   "name": "python3"
  },
  "language_info": {
   "codemirror_mode": {
    "name": "ipython",
    "version": 3
   },
   "file_extension": ".py",
   "mimetype": "text/x-python",
   "name": "python",
   "nbconvert_exporter": "python",
   "pygments_lexer": "ipython3",
   "version": "3.11.4"
  }
 },
 "nbformat": 4,
 "nbformat_minor": 2
}
